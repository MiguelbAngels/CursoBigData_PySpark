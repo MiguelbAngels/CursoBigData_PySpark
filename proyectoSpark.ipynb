{
  "cells": [
    {
      "cell_type": "code",
      "execution_count": 14,
      "id": "5e77a3bf",
      "metadata": {
        "scrolled": false,
        "id": "5e77a3bf",
        "colab": {
          "base_uri": "https://localhost:8080/"
        },
        "outputId": "350dacd7-0902-4281-c101-01bf2877b272"
      },
      "outputs": [
        {
          "name": "stdout",
          "output_type": "stream",
          "text": [
            "Hi, Im here to recommend you a movie of your desire, What genre of movie do you want me to recommend?\n",
            "Action, Adventure, Animation, Children, Comedy, Crime, Documentary, Drama, Fantasy, Film-Noir,\n",
            "Horror, IMAX, Musical, Mystery, Romance, Sci-Fi, Thriller, War, Western or type quit to exit\n",
            "Horror\n",
            "Try one of this 10  Horror  Movies:\n",
            "+----+-------+-----------------------------------------------------+------+------+\n",
            "|_c0 |User_Id|Movie_Name                                           |Rating|Genre |\n",
            "+----+-------+-----------------------------------------------------+------+------+\n",
            "|1930|12     |Shining, The (1980)                                  |5.0   |Horror|\n",
            "|1942|12     |April Fool's Day (1986)                              |2.5   |Horror|\n",
            "|2092|12     |Texas Chainsaw Massacre, The (1974)                  |3.0   |Horror|\n",
            "|2093|12     |Texas Chainsaw Massacre 2, The (1986)                |1.5   |Horror|\n",
            "|3099|18     |Shining, The (1980)                                  |4.0   |Horror|\n",
            "|3245|19     |Shining, The (1980)                                  |3.5   |Horror|\n",
            "|3493|19     |Martyrs (2008)                                       |3.5   |Horror|\n",
            "|4370|26     |Nightmare on Elm Street 2: Freddy's Revenge, A (1985)|3.0   |Horror|\n",
            "|4663|31     |Shining, The (1980)                                  |2.0   |Horror|\n",
            "|5039|34     |Texas Chainsaw Massacre, The (1974)                  |4.0   |Horror|\n",
            "+----+-------+-----------------------------------------------------+------+------+\n",
            "only showing top 10 rows\n",
            "\n",
            "Action, Adventure, Animation, Children, Comedy, Crime, Documentary, Drama, Fantasy, Film-Noir,\n",
            "Horror, IMAX, Musical, Mystery, Romance, Sci-Fi, Thriller, War, Western or type quit to exit\n",
            "quit\n"
          ]
        }
      ],
      "source": [
        "import numpy as np\n",
        "import random\n",
        "import spark\n",
        "import findspark\n",
        "from pyspark.sql import SparkSession\n",
        "\n",
        "findspark.init() \n",
        "spark = SparkSession.builder.appName(\"Test_spark\").master(\"local[*]\").getOrCreate()\n",
        "spark\n",
        "\n",
        "df = spark.read.csv('/content/drive/MyDrive/movies_dataset.csv', sep=',', header=True)\n",
        "df.createOrReplaceTempView ('registros')\n",
        "\n",
        "#Mensaje Inicial\n",
        "print('Hi, Im here to recommend you a movie of your desire, What genre of movie do you want me to recommend?')\n",
        "print('Action, Adventure, Animation, Children, Comedy, Crime, Documentary, Drama, Fantasy, Film-Noir,\\nHorror, IMAX, Musical, Mystery, Romance, Sci-Fi, Thriller, War, Western or type quit to exit')\n",
        "genre = input()\n",
        "\n",
        "#Ciclo donde se ejecuta el programa\n",
        "while not genre == \"quit\":\n",
        "    if genre != \"quit\" :\n",
        "      print(\"Try one of this 10 \", genre, \" Movies:\") \n",
        "      indice = random.randint(1, 58947)\n",
        "      spark.sql(f\"\"\"SELECT * FROM registros where genre = '{genre}' AND _c0 > '{indice}'\"\"\").show(10, truncate=False)\n",
        "    print('Action, Adventure, Animation, Children, Comedy, Crime, Documentary, Drama, Fantasy, Film-Noir,\\nHorror, IMAX, Musical, Mystery, Romance, Sci-Fi, Thriller, War, Western or type quit to exit')\n",
        "    genre = input()"
      ]
    },
    {
      "cell_type": "code",
      "source": [
        "import pandas as pd\n",
        "import numpy as np\n",
        "import random\n",
        "import spark\n",
        "import findspark\n",
        "from pyspark.sql import SparkSession\n",
        "from nltk.chat.util import Chat, reflections\n",
        "\n",
        "findspark.init() \n",
        "spark = SparkSession.builder.appName(\"Test_spark\").master(\"local[*]\").getOrCreate()\n",
        "spark\n",
        "\n",
        "df = spark.read.csv('/content/ml-latest/movies.csv', sep=',', header=True)\n",
        "#df.show(10, truncate=False)\n",
        "#df.count()\n",
        "#df.select(\"*\").show(5, truncate=False)\n",
        "df.createOrReplaceTempView ('registros')\n",
        "spark.sql ('SELECT * FROM registros where genres=\"Horror\"').show(5)\n",
        "#Selects 4th column (index starts from zero)\n",
        "#Selects columns from index 2 to 4\n",
        "#df.select(df.columns.slice(2,4).map(5=>col(12)):_*).show()"
      ],
      "metadata": {
        "id": "RSeBR1_w8ysg"
      },
      "id": "RSeBR1_w8ysg",
      "execution_count": null,
      "outputs": []
    },
    {
      "cell_type": "code",
      "execution_count": null,
      "id": "7571c41e",
      "metadata": {
        "id": "7571c41e"
      },
      "outputs": [],
      "source": [
        "!pip install -r /content/drive/MyDrive/requirements.txt\n",
        "!pip install --upgrade tools\n",
        "!pip install wheel\n",
        "!pip install -q findspark\n",
        "import os\n",
        "import spark\n",
        "import numpy\n",
        "import findspark\n",
        "import os # libreria de manejo del sistema operativo\n",
        "os.system(\"wget -q https://www-us.apache.org/dist/spark/spark-2.4.5/spark-2.4.5-bin-hadoop2.7.tgz\")\n",
        "os.system(\"tar xf /spark-2.4.5-bin-hadoop2.7.tgz\")\n",
        "from pyspark.sql import SparkSession\n",
        "!pip install -q spark\n",
        "!pyspark --version\n",
        "findspark.init() \n",
        "#spark = SparkSession.builder\\\n",
        "#        .master(\"local\")\\\n",
        "#        .appName(\"Colab\")\\\n",
        "#        .config('spark.ui.port', '4050')\\\n",
        "#        .getOrCreate()"
      ]
    },
    {
      "cell_type": "code",
      "source": [
        "!apt-get install openjdk-8-jdk-headless -qq > /dev/null\n",
        "!wget https://dlcdn.apache.org/hadoop/common/hadoop-3.3.2/hadoop-3.3.2.tar.gz\n",
        "!tar -xvf hadoop-3.3.2.tar.gz\n",
        "!wget https://dlcdn.apache.org/spark/spark-3.2.1/spark-3.2.1-bin-hadoop3.2.tgz\n",
        "!tar -xvf spark-3.2.1-bin-hadoop3.2.tgz\n",
        "!pip install -q findspark\n",
        "!pip install pyspark\n",
        "import os\n",
        "\n",
        "os.environ[\"JAVA_HOME\"] = \"/usr/lib/jvm/java-8-openjdk-amd64\"\n",
        "os.environ[\"SPARK_HOME\"] = \"/content/spark-3.2.1-bin-hadoop3.2\"\n",
        "from pyspark import SparkContext, SparkConf\n",
        "\n",
        "import findspark\n",
        "findspark.init()\n",
        "from pyspark.sql import SparkSession\n",
        "spark = SparkSession.builder.master(\"local[*]\").getOrCreate()"
      ],
      "metadata": {
        "id": "3fWu4m0cyrxb"
      },
      "id": "3fWu4m0cyrxb",
      "execution_count": null,
      "outputs": []
    },
    {
      "cell_type": "code",
      "source": [
        "#!wget  https://files.grouplens.org/datasets/movielens/ml-latest.zip \n",
        "#!unzip ml-latest.zip\n",
        "#!wget https://www.kaggle.com/datasets/chaitanyahivlekar/large-movie-dataset/download\n",
        "#!unzip ml-latest.zip\n",
        "!wget https://doc-10-98-docs.googleusercontent.com/docs/securesc/dbc0lffno1ndsfg9cmmnlcc8es01rdcl/rjsn8g7t5vacp8b5vge6mlim2khh4ehi/1652680650000/16796414423704266435/07453270759137870031/1MXCYY6cUe8LqJPyxmpjOqFQX1SomXtVJ?e=download&ax=ACxEAsYAnSPUlIi5sZwNWyjfNT7VbIhKb-2lyRX_bs4-cC6cyQuU3Zik5DDGlIF768X8MuZg-byQbj8LCmzqkazkzktIBrBcUlu5587Ob5PM_Z6ED8ayHNqGr2sWpfmfXHWdxivhBZuRRNljJ8H8C-cuoZB72fIRHbEGreV4y6uUiCOnak2LRdjHYaPatscceezKdqIKUgov5n4Sx7-3EvjCtbV99mcC13tUoCwGWOXcLX4MkCkJBKLJWCtCF4nSXYiSZedSsltFWyph7TVUcTSytMW4sGWFoa25fG8hOMWbt0VyULtF2PhiFk2TOVGQkn7t4m3duE1Fwwk5dP5qY0kSvHS8DRT9Tl_13v8xYfgGEHB_igy5IHEYFaZql8Qp4s5viB6XlqQ89X6grQf66b_5vGrjx5DcV7CKvi-ZnIt3NDNV9tDCsgLEeD0lcocq0be1zQoUVJRB4U7PWL-9K1fzlA3sPlqaEozlrUc7GweS349Ym7BS_Yw9wnnDYNgtX0ulsrM-EXeDfoNfL1YX-SfGwJ6A8Mfh3fykEI39qfqI3267U6qU7MGX9lWJTWrIWhZPBX-K7IKnHpmRmfChReSorp9dKCxCXqNRgW-PLE9mJjLbk9z3Fb3hlqfl--PdBO4dYCi3ufCeYL0SenrT98TZAjvPx30gc_MjpMa7ejYHUh3jLcaPOrv6CdqrHcaMziK3D3DHG6wRFuuqqZcgPfqq9E7RCS7ObnALvGcbEcak74SsRo3YbF79&authuser=1&nonce=8buj25s34tohm&user=07453270759137870031&hash=3rju9e1de8v2l7geoeikmjuauk891q4i\n",
        "#!unzip ml-latest.zip\n"
      ],
      "metadata": {
        "id": "qMqyr1117y6y"
      },
      "id": "qMqyr1117y6y",
      "execution_count": null,
      "outputs": []
    },
    {
      "cell_type": "code",
      "source": [
        "from google.colab import drive\n",
        "drive.mount('/content/drive')"
      ],
      "metadata": {
        "id": "jGeaBxCAUrXJ"
      },
      "id": "jGeaBxCAUrXJ",
      "execution_count": null,
      "outputs": []
    },
    {
      "cell_type": "code",
      "source": [
        "import pandas as pd\n",
        "import numpy as np\n",
        "import random\n",
        "db1 = pd.read_csv(\"/content/drive/MyDrive/movies_dataset.csv\") \n",
        "\n",
        "db = pd.DataFrame(db1, columns=[\"*\"])\n",
        "\n",
        "df.select(\"genre\").distinct().show(truncate=False)"
      ],
      "metadata": {
        "id": "uLfVcO1eh88P"
      },
      "id": "uLfVcO1eh88P",
      "execution_count": null,
      "outputs": []
    }
  ],
  "metadata": {
    "kernelspec": {
      "display_name": "Python 3 (ipykernel)",
      "language": "python",
      "name": "python3"
    },
    "language_info": {
      "codemirror_mode": {
        "name": "ipython",
        "version": 3
      },
      "file_extension": ".py",
      "mimetype": "text/x-python",
      "name": "python",
      "nbconvert_exporter": "python",
      "pygments_lexer": "ipython3",
      "version": "3.9.12"
    },
    "colab": {
      "name": "proyectoSpark.ipynb",
      "provenance": []
    }
  },
  "nbformat": 4,
  "nbformat_minor": 5
}