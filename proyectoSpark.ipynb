{
  "cells": [
    {
      "cell_type": "markdown",
      "metadata": {
        "id": "view-in-github",
        "colab_type": "text"
      },
      "source": [
        "<a href=\"https://colab.research.google.com/github/MiguelbAngels/CursoBigData_PySpark/blob/master/proyectoSpark.ipynb\" target=\"_parent\"><img src=\"https://colab.research.google.com/assets/colab-badge.svg\" alt=\"Open In Colab\"/></a>"
      ]
    },
    {
      "cell_type": "code",
      "execution_count": 14,
      "id": "5e77a3bf",
      "metadata": {
        "scrolled": false,
        "id": "5e77a3bf",
        "colab": {
          "base_uri": "https://localhost:8080/"
        },
        "outputId": "350dacd7-0902-4281-c101-01bf2877b272"
      },
      "outputs": [
        {
          "name": "stdout",
          "output_type": "stream",
          "text": [
            "Hi, Im here to recommend you a movie of your desire, What genre of movie do you want me to recommend?\n",
            "Action, Adventure, Animation, Children, Comedy, Crime, Documentary, Drama, Fantasy, Film-Noir,\n",
            "Horror, IMAX, Musical, Mystery, Romance, Sci-Fi, Thriller, War, Western or type quit to exit\n",
            "Horror\n",
            "Try one of this 10  Horror  Movies:\n",
            "+----+-------+-----------------------------------------------------+------+------+\n",
            "|_c0 |User_Id|Movie_Name                                           |Rating|Genre |\n",
            "+----+-------+-----------------------------------------------------+------+------+\n",
            "|1930|12     |Shining, The (1980)                                  |5.0   |Horror|\n",
            "|1942|12     |April Fool's Day (1986)                              |2.5   |Horror|\n",
            "|2092|12     |Texas Chainsaw Massacre, The (1974)                  |3.0   |Horror|\n",
            "|2093|12     |Texas Chainsaw Massacre 2, The (1986)                |1.5   |Horror|\n",
            "|3099|18     |Shining, The (1980)                                  |4.0   |Horror|\n",
            "|3245|19     |Shining, The (1980)                                  |3.5   |Horror|\n",
            "|3493|19     |Martyrs (2008)                                       |3.5   |Horror|\n",
            "|4370|26     |Nightmare on Elm Street 2: Freddy's Revenge, A (1985)|3.0   |Horror|\n",
            "|4663|31     |Shining, The (1980)                                  |2.0   |Horror|\n",
            "|5039|34     |Texas Chainsaw Massacre, The (1974)                  |4.0   |Horror|\n",
            "+----+-------+-----------------------------------------------------+------+------+\n",
            "only showing top 10 rows\n",
            "\n",
            "Action, Adventure, Animation, Children, Comedy, Crime, Documentary, Drama, Fantasy, Film-Noir,\n",
            "Horror, IMAX, Musical, Mystery, Romance, Sci-Fi, Thriller, War, Western or type quit to exit\n",
            "quit\n"
          ]
        }
      ],
      "source": [
        "import numpy as np\n",
        "import random\n",
        "import spark\n",
        "import findspark\n",
        "from pyspark.sql import SparkSession\n",
        "\n",
        "findspark.init() \n",
        "spark = SparkSession.builder.appName(\"Test_spark\").master(\"local[*]\").getOrCreate()\n",
        "spark\n",
        "\n",
        "df = spark.read.csv('/content/drive/MyDrive/movies_dataset.csv', sep=',', header=True)\n",
        "df.createOrReplaceTempView ('registros')\n",
        "\n",
        "#Mensaje Inicial\n",
        "print('Hi, Im here to recommend you a movie of your desire, What genre of movie do you want me to recommend?')\n",
        "print('Action, Adventure, Animation, Children, Comedy, Crime, Documentary, Drama, Fantasy, Film-Noir,\\nHorror, IMAX, Musical, Mystery, Romance, Sci-Fi, Thriller, War, Western or type quit to exit')\n",
        "genre = input()\n",
        "\n",
        "#Ciclo donde se ejecuta el programa\n",
        "while not genre == \"quit\":\n",
        "    if genre != \"quit\" :\n",
        "      print(\"Try one of this 10 \", genre, \" Movies:\") \n",
        "      indice = random.randint(1, 58947)\n",
        "      spark.sql(f\"\"\"SELECT * FROM registros where genre = '{genre}' AND _c0 > '{indice}'\"\"\").show(10, truncate=False)\n",
        "    print('Action, Adventure, Animation, Children, Comedy, Crime, Documentary, Drama, Fantasy, Film-Noir,\\nHorror, IMAX, Musical, Mystery, Romance, Sci-Fi, Thriller, War, Western or type quit to exit')\n",
        "    genre = input()"
      ]
    }
  ],
  "metadata": {
    "kernelspec": {
      "display_name": "Python 3 (ipykernel)",
      "language": "python",
      "name": "python3"
    },
    "language_info": {
      "codemirror_mode": {
        "name": "ipython",
        "version": 3
      },
      "file_extension": ".py",
      "mimetype": "text/x-python",
      "name": "python",
      "nbconvert_exporter": "python",
      "pygments_lexer": "ipython3",
      "version": "3.9.12"
    },
    "colab": {
      "name": "proyectoSpark.ipynb",
      "provenance": [],
      "include_colab_link": true
    }
  },
  "nbformat": 4,
  "nbformat_minor": 5
}